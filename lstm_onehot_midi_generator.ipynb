{
 "cells": [
  {
   "cell_type": "markdown",
   "metadata": {
    "colab_type": "text",
    "id": "view-in-github"
   },
   "source": [
    "[View in Colaboratory](https://colab.research.google.com/github/masa-ita/keras-composer/blob/master/lstm_onehot_midi_generator.ipynb)"
   ]
  },
  {
   "cell_type": "code",
   "execution_count": 0,
   "metadata": {
    "colab": {},
    "colab_type": "code",
    "id": "SKzHoPKlyhac"
   },
   "outputs": [],
   "source": [
    "from google.colab import drive"
   ]
  },
  {
   "cell_type": "code",
   "execution_count": 2,
   "metadata": {
    "colab": {
     "base_uri": "https://localhost:8080/",
     "height": 121
    },
    "colab_type": "code",
    "id": "eEAIsaYs7UG7",
    "outputId": "9e1f71a5-e9b7-4c93-cb37-a95ab36354bc"
   },
   "outputs": [
    {
     "name": "stdout",
     "output_type": "stream",
     "text": [
      "Go to this URL in a browser: https://accounts.google.com/o/oauth2/auth?client_id=947318989803-6bn6qk8qdgf4n4g3pfee6491hc0brc4i.apps.googleusercontent.com&redirect_uri=urn%3Aietf%3Awg%3Aoauth%3A2.0%3Aoob&scope=email%20https%3A%2F%2Fwww.googleapis.com%2Fauth%2Fdocs.test%20https%3A%2F%2Fwww.googleapis.com%2Fauth%2Fdrive%20https%3A%2F%2Fwww.googleapis.com%2Fauth%2Fdrive.photos.readonly%20https%3A%2F%2Fwww.googleapis.com%2Fauth%2Fpeopleapi.readonly&response_type=code\n",
      "\n",
      "Enter your authorization code:\n",
      "··········\n",
      "Mounted at /content/gdrive\n"
     ]
    }
   ],
   "source": [
    "drive.mount('/content/gdrive')"
   ]
  },
  {
   "cell_type": "code",
   "execution_count": 4,
   "metadata": {
    "colab": {
     "base_uri": "https://localhost:8080/",
     "height": 50
    },
    "colab_type": "code",
    "id": "kzWU_l3c12qT",
    "outputId": "1196becd-a345-470e-fb19-4ee632f6dabb"
   },
   "outputs": [
    {
     "name": "stdout",
     "output_type": "stream",
     "text": [
      "total 4\n",
      "drwx------ 7 root root 4096 Oct  3 07:57 My Drive\n"
     ]
    }
   ],
   "source": [
    "!ls -l /content/gdrive"
   ]
  },
  {
   "cell_type": "code",
   "execution_count": 5,
   "metadata": {
    "colab": {
     "base_uri": "https://localhost:8080/",
     "height": 188
    },
    "colab_type": "code",
    "id": "A6pbIysPyigI",
    "outputId": "49778720-8140-441f-8da3-13b33aecb582"
   },
   "outputs": [
    {
     "name": "stdout",
     "output_type": "stream",
     "text": [
      "Collecting music21\n",
      "\u001b[?25l  Downloading https://files.pythonhosted.org/packages/4a/db/317c21f4b5b970c3bfb5ff321e333059faf775621ae6433abcd4c68c69db/music21-5.3.0.tar.gz (18.0MB)\n",
      "\u001b[K    100% |████████████████████████████████| 18.0MB 692kB/s \n",
      "\u001b[?25hBuilding wheels for collected packages: music21\n",
      "  Running setup.py bdist_wheel for music21 ... \u001b[?25l-\b \b\\\b \b|\b \b/\b \b-\b \b\\\b \b|\b \b/\b \b-\b \b\\\b \b|\b \b/\b \b-\b \b\\\b \b|\b \b/\b \b-\b \b\\\b \b|\b \b/\b \b-\b \b\\\b \b|\b \b/\b \b-\b \b\\\b \b|\b \b/\b \b-\b \b\\\b \b|\b \b/\b \b-\b \b\\\b \b|\b \b/\b \b-\b \b\\\b \b|\b \b/\b \b-\b \b\\\b \b|\b \b/\b \b-\b \b\\\b \b|\b \b/\b \b-\b \b\\\b \b|\b \b/\b \b-\b \b\\\b \b|\b \b/\b \b-\b \b\\\b \b|\b \b/\b \b-\b \b\\\b \b|\b \b/\b \b-\b \b\\\b \b|\b \b/\b \b-\b \b\\\b \b|\b \b/\b \b-\b \b\\\b \b|\b \b/\b \b-\b \b\\\b \b|\b \b/\b \b-\b \b\\\b \b|\b \b/\b \b-\b \bdone\n",
      "\u001b[?25h  Stored in directory: /root/.cache/pip/wheels/53/8b/a6/be1921c60a68f0bea31c6b6a0a7b125badd61294d6a694407f\n",
      "Successfully built music21\n",
      "Installing collected packages: music21\n",
      "Successfully installed music21-5.3.0\n"
     ]
    }
   ],
   "source": [
    "!pip install music21"
   ]
  },
  {
   "cell_type": "code",
   "execution_count": 1,
   "metadata": {
    "colab": {},
    "colab_type": "code",
    "id": "A8PCMcYbx0kK"
   },
   "outputs": [
    {
     "name": "stderr",
     "output_type": "stream",
     "text": [
      "Using TensorFlow backend.\n",
      "/Users/masatoshi/pyenvs/music/lib/python3.6/site-packages/matplotlib/style/core.py:201: UserWarning: In /Users/masatoshi/pyenvs/music/lib/python3.6/site-packages/matplotlib/mpl-data/stylelib/_classic_test.mplstyle: compiletime version 3.5 of module 'tensorflow.python.framework.fast_tensor_util' does not match runtime version 3.6\n",
      "  warnings.warn(message)\n"
     ]
    }
   ],
   "source": [
    "import os\n",
    "import glob\n",
    "import pickle\n",
    "import numpy\n",
    "from music21 import converter, instrument, note, chord, stream\n",
    "from keras.models import Sequential\n",
    "from keras.layers import Dense, Dropout, CuDNNLSTM, Activation\n",
    "from keras.utils import np_utils\n",
    "from keras.callbacks import ModelCheckpoint\n",
    "import matplotlib\n",
    "import matplotlib.pyplot as plt\n",
    "import keras\n",
    "import numpy as np\n",
    "from IPython.display import clear_output\n",
    "from sklearn.model_selection import train_test_split\n",
    "\n",
    "%matplotlib inline\n"
   ]
  },
  {
   "cell_type": "code",
   "execution_count": 2,
   "metadata": {
    "colab": {},
    "colab_type": "code",
    "id": "UcVBmmSiyndF"
   },
   "outputs": [],
   "source": [
    "# work_dir = '/content/gdrive/My Drive/Colab/'\n",
    "work_dir = '/Users/masatoshi/repos/keras_composer/'\n"
   ]
  },
  {
   "cell_type": "code",
   "execution_count": 3,
   "metadata": {
    "colab": {},
    "colab_type": "code",
    "id": "Dbj41QSEx0kS"
   },
   "outputs": [],
   "source": [
    "def get_notes(dir):\n",
    "    \"\"\" Get all the notes and chords from the midi files in the ./midi_songs directory \"\"\"\n",
    "    notes = []\n",
    "\n",
    "    for file in glob.glob(os.path.join(dir, '*.mid')):\n",
    "        midi = converter.parse(file)\n",
    "\n",
    "        print(\"Parsing %s\" % file)\n",
    "\n",
    "        notes_to_parse = None\n",
    "\n",
    "        try: # file has instrument parts\n",
    "            s2 = instrument.partitionByInstrument(midi)\n",
    "            notes_to_parse = s2.parts[0].recurse() \n",
    "        except: # file has notes in a flat structure\n",
    "            notes_to_parse = midi.flat.notes\n",
    "\n",
    "        for element in notes_to_parse:\n",
    "            if isinstance(element, note.Note):\n",
    "                notes.append(str(element.pitch))\n",
    "            elif isinstance(element, chord.Chord):\n",
    "                notes.append('.'.join(str(n) for n in element.normalOrder))\n",
    "\n",
    "    return notes\n"
   ]
  },
  {
   "cell_type": "code",
   "execution_count": 4,
   "metadata": {
    "colab": {},
    "colab_type": "code",
    "id": "9oDnX32_x0kV"
   },
   "outputs": [],
   "source": [
    "def prepare_sequences(notes, n_vocab, sequence_length=100):\n",
    "    \"\"\" Prepare the sequences used by the Neural Network \"\"\"\n",
    "    # get all pitch names\n",
    "    pitchnames = sorted(set(item for item in notes))\n",
    "\n",
    "     # create a dictionary to map pitches to integers\n",
    "    note_to_int = dict((note, number) for number, note in enumerate(pitchnames))\n",
    "    \n",
    "    # convert notes to one-hot encoded\n",
    "    one_hot_notes = []\n",
    "    for note in notes:\n",
    "        one_hot_note = np.zeros(n_vocab)\n",
    "        one_hot_note[note_to_int[note]] = 1\n",
    "        one_hot_notes.append(one_hot_note)\n",
    "\n",
    "    network_input = []\n",
    "    network_output = []\n",
    "\n",
    "    # create input sequences and the corresponding outputs\n",
    "    for i in range(0, len(one_hot_notes) - sequence_length, 1):\n",
    "        sequence_in = one_hot_notes[i:i + sequence_length]\n",
    "        sequence_out = one_hot_notes[i + sequence_length]\n",
    "        network_input.append(sequence_in)\n",
    "        network_output.append(sequence_out)\n",
    "\n",
    "    n_patterns = len(network_input)\n",
    "\n",
    "    # reshape the input into a format compatible with LSTM layers\n",
    "    network_input = numpy.reshape(network_input, (n_patterns, sequence_length, n_vocab))\n",
    "\n",
    "    network_output = np.array(network_output)\n",
    "\n",
    "    return (network_input, network_output)"
   ]
  },
  {
   "cell_type": "code",
   "execution_count": 5,
   "metadata": {
    "colab": {},
    "colab_type": "code",
    "id": "9-WZDCljx0kc"
   },
   "outputs": [],
   "source": [
    "def create_network(network_input, n_vocab):\n",
    "    \"\"\" create the structure of the neural network \"\"\"\n",
    "    model = Sequential()\n",
    "    model.add(CuDNNLSTM(\n",
    "        512,\n",
    "        input_shape=(network_input.shape[1], network_input.shape[2]),\n",
    "        return_sequences=True\n",
    "    ))\n",
    "    model.add(Dropout(0.3))\n",
    "    model.add(CuDNNLSTM(512, return_sequences=True))\n",
    "    model.add(Dropout(0.3))\n",
    "    model.add(CuDNNLSTM(512))\n",
    "    model.add(Dense(256))\n",
    "    model.add(Dropout(0.3))\n",
    "    model.add(Dense(n_vocab, activation='softmax'))\n",
    "\n",
    "    model.compile(loss='categorical_crossentropy', optimizer='rmsprop', metrics=['acc'])\n",
    "\n",
    "    return model"
   ]
  },
  {
   "cell_type": "code",
   "execution_count": 6,
   "metadata": {
    "colab": {},
    "colab_type": "code",
    "id": "MQnHyxBWx0kh"
   },
   "outputs": [],
   "source": [
    "class TrainingPlot(keras.callbacks.Callback):\n",
    "\n",
    "    # This function is called when the training begins\n",
    "    def on_train_begin(self, logs={}):\n",
    "        # Initialize the lists for holding the logs, losses and accuracies\n",
    "        self.losses = []\n",
    "        self.acc = []\n",
    "        self.val_losses = []\n",
    "        self.val_acc = []\n",
    "        self.logs = []\n",
    "\n",
    "    # This function is called at the end of each epoch\n",
    "    def on_epoch_end(self, epoch, logs={}):\n",
    "\n",
    "        # Append the logs, losses and accuracies to the lists\n",
    "        self.logs.append(logs)\n",
    "        self.losses.append(logs.get('loss'))\n",
    "        self.acc.append(logs.get('acc'))\n",
    "        self.val_losses.append(logs.get('val_loss'))\n",
    "        self.val_acc.append(logs.get('val_acc'))\n",
    "\n",
    "        # Before plotting ensure at least 2 epochs have passed\n",
    "        if len(self.losses) > 1:\n",
    "            clear_output(wait=True)\n",
    "\n",
    "            N = np.arange(0, len(self.losses))\n",
    "\n",
    "            # You can chose the style of your preference\n",
    "            # print(plt.style.available) to see the available options\n",
    "            #plt.style.use(\"seaborn\")\n",
    "\n",
    "            # Plot train loss, train acc, val loss and val acc against epochs passed\n",
    "            fig,(ax1, ax2) = plt.subplots(1,2,figsize=(7,3),dpi=100,num=1)\n",
    "            fig.subplots_adjust(wspace=0.35)\n",
    "\n",
    "            ax1.plot(N, self.losses, label = \"train_loss\")\n",
    "            ax2.plot(N, self.acc, label = \"train_acc\")\n",
    "            ax1.plot(N, self.val_losses, label = \"val_loss\")\n",
    "            ax2.plot(N, self.val_acc, label = \"val_acc\")\n",
    "            ax1.set_title(\"Training Loss [Epoch {}]\".format(epoch))\n",
    "            ax2.set_title(\"Training Accuracy [Epoch {}]\".format(epoch))\n",
    "            ax1.set_xlabel(\"Epoch #\")\n",
    "            ax1.set_ylabel(\"Loss\")\n",
    "            ax2.set_xlabel(\"Epoch #\")\n",
    "            ax2.set_ylabel(\"Accuracy\")\n",
    "            ax1.legend()\n",
    "            ax2.legend()\n",
    "            plt.show()\n"
   ]
  },
  {
   "cell_type": "code",
   "execution_count": 8,
   "metadata": {
    "colab": {
     "base_uri": "https://localhost:8080/",
     "height": 302
    },
    "colab_type": "code",
    "id": "L44X1vDix0kk",
    "outputId": "86534bf7-04d3-42a1-f3d4-105b2b8c8eca"
   },
   "outputs": [
    {
     "name": "stdout",
     "output_type": "stream",
     "text": [
      "Parsing /Users/masatoshi/repos/keras_composer/midi_songs/bwv782.mid\n",
      "Parsing /Users/masatoshi/repos/keras_composer/midi_songs/bwv783.mid\n",
      "Parsing /Users/masatoshi/repos/keras_composer/midi_songs/bwv781.mid\n",
      "Parsing /Users/masatoshi/repos/keras_composer/midi_songs/bwv780.mid\n",
      "Parsing /Users/masatoshi/repos/keras_composer/midi_songs/bwv784.mid\n",
      "Parsing /Users/masatoshi/repos/keras_composer/midi_songs/bwv785.mid\n",
      "Parsing /Users/masatoshi/repos/keras_composer/midi_songs/bwv778.mid\n",
      "Parsing /Users/masatoshi/repos/keras_composer/midi_songs/bwv786.mid\n",
      "Parsing /Users/masatoshi/repos/keras_composer/midi_songs/bwv779.mid\n",
      "Parsing /Users/masatoshi/repos/keras_composer/midi_songs/bwv774.mid\n",
      "Parsing /Users/masatoshi/repos/keras_composer/midi_songs/bwv775.mid\n",
      "Parsing /Users/masatoshi/repos/keras_composer/midi_songs/bwv777.mid\n",
      "Parsing /Users/masatoshi/repos/keras_composer/midi_songs/bwv776.mid\n",
      "Parsing /Users/masatoshi/repos/keras_composer/midi_songs/bwv772.mid\n",
      "Parsing /Users/masatoshi/repos/keras_composer/midi_songs/bwv773.mid\n",
      "(8327, 100, 124)\n",
      "(8327, 124)\n"
     ]
    }
   ],
   "source": [
    "notes = get_notes(os.path.join(work_dir, 'midi_songs'))\n",
    "\n",
    "# get amount of pitch names\n",
    "n_vocab = len(set(notes))\n",
    "\n",
    "network_input, network_output = prepare_sequences(notes, n_vocab)\n",
    "print(network_input.shape)\n",
    "print(network_output.shape)\n",
    "\n",
    "# x_train, x_test, y_train, y_test = train_test_split(network_input, network_output, test_size=0.2)\n",
    "\n",
    "train_size = int(len(network_input) * 0.8)\n",
    "x_train = network_input[:train_size]\n",
    "y_train = network_output[:train_size]\n",
    "x_test = network_input[train_size:]\n",
    "y_test = network_output[train_size:]\n",
    "\n",
    "model = create_network(network_input, n_vocab)"
   ]
  },
  {
   "cell_type": "code",
   "execution_count": 10,
   "metadata": {},
   "outputs": [],
   "source": [
    "from keras.utils import plot_model\n",
    "\n",
    "plot_model(model, to_file=os.path.join(work_dir, 'lstm_model_LR.png'), show_shapes=True, rankdir='LR')"
   ]
  },
  {
   "cell_type": "code",
   "execution_count": null,
   "metadata": {
    "colab": {
     "base_uri": "https://localhost:8080/",
     "height": 327
    },
    "colab_type": "code",
    "id": "Xk1rfyPgx0kq",
    "outputId": "15b58075-1603-4785-cf2a-6e67faf3f4b8"
   },
   "outputs": [],
   "source": [
    "filepath = os.path.join(work_dir, \"weights/weights-improvement-{epoch:02d}-{loss:.4f}-bigger.hdf5\")\n",
    "checkpoint = ModelCheckpoint(\n",
    "    filepath,\n",
    "    monitor='loss',\n",
    "    verbose=0,\n",
    "    save_best_only=True,\n",
    "    mode='min'\n",
    ")\n",
    "plot_chart = TrainingPlot()\n",
    "callbacks_list = [checkpoint, plot_chart]\n",
    "\n",
    "history = model.fit(x_train, y_train,\n",
    "                                 epochs=200, \n",
    "                                 batch_size=64,\n",
    "                                 validation_data=(x_test, y_test),\n",
    "                                 callbacks=callbacks_list)"
   ]
  },
  {
   "cell_type": "code",
   "execution_count": null,
   "metadata": {
    "colab": {},
    "colab_type": "code",
    "id": "XrUPplz3x0kv"
   },
   "outputs": [],
   "source": [
    "def generate_notes(model, network_input, pitchnames, n_vocab, pattern):\n",
    "    \"\"\" Generate notes from the neural network based on a sequence of notes \"\"\"\n",
    "    \n",
    "    int_to_note = dict((number, note) for number, note in enumerate(pitchnames))\n",
    "\n",
    "    prediction_output = []\n",
    "\n",
    "    # generate 500 notes\n",
    "    for note_index in range(500):\n",
    "        prediction_input = np.expand_dims(pattern, axis=0)\n",
    "\n",
    "        prediction = model.predict(prediction_input, verbose=0)\n",
    "\n",
    "        index = np.argmax(prediction)\n",
    "        result = int_to_note[index]\n",
    "        prediction_output.append(result)\n",
    "        index_onehot = np.zeros(n_vocab)\n",
    "        index_onehot[index] = 1\n",
    "        pattern = np.append(pattern, np.expand_dims(index_onehot, axis=0), axis=0)\n",
    "        pattern = pattern[1:len(pattern)]\n",
    "\n",
    "    return prediction_output"
   ]
  },
  {
   "cell_type": "code",
   "execution_count": null,
   "metadata": {
    "colab": {},
    "colab_type": "code",
    "id": "8hW5MVxSx0kz"
   },
   "outputs": [],
   "source": [
    "def create_midi(prediction_output, file_path):\n",
    "    \"\"\" convert the output from the prediction to notes and create a midi file\n",
    "        from the notes \"\"\"\n",
    "    offset = 0\n",
    "    output_notes = []\n",
    "\n",
    "    # create note and chord objects based on the values generated by the model\n",
    "    for pattern in prediction_output:\n",
    "        # pattern is a chord\n",
    "        if ('.' in pattern) or pattern.isdigit():\n",
    "            notes_in_chord = pattern.split('.')\n",
    "            notes = []\n",
    "            for current_note in notes_in_chord:\n",
    "                new_note = note.Note(int(current_note))\n",
    "                new_note.storedInstrument = instrument.Piano()\n",
    "                notes.append(new_note)\n",
    "            new_chord = chord.Chord(notes)\n",
    "            new_chord.offset = offset\n",
    "            output_notes.append(new_chord)\n",
    "        # pattern is a note\n",
    "        else:\n",
    "            new_note = note.Note(pattern)\n",
    "            new_note.offset = offset\n",
    "            new_note.storedInstrument = instrument.Piano()\n",
    "            output_notes.append(new_note)\n",
    "\n",
    "        # increase offset each iteration so that notes do not stack\n",
    "        offset += 0.5\n",
    "\n",
    "    midi_stream = stream.Stream(output_notes)\n",
    "\n",
    "    midi_stream.write('midi', fp=file_path)"
   ]
  },
  {
   "cell_type": "code",
   "execution_count": null,
   "metadata": {
    "colab": {},
    "colab_type": "code",
    "id": "5EjyDO5rx0k2"
   },
   "outputs": [],
   "source": [
    "pitchnames = sorted(set(item for item in notes))\n",
    "\n",
    "pattern = network_input[np.random.randint(0, len(network_input)-1)]\n",
    "\n",
    "prediction_output = generate_notes(model, network_input, pitchnames, n_vocab, pattern)\n",
    "\n",
    "create_midi(prediction_output, os.path.join(work_dir, 'lstm_oh_gen_test_output_2.mid'))"
   ]
  },
  {
   "cell_type": "code",
   "execution_count": 0,
   "metadata": {
    "colab": {},
    "colab_type": "code",
    "id": "NHEMfNtARNSW"
   },
   "outputs": [],
   "source": [
    "from keras.utils import to_categorical\n",
    "\n",
    "sequence_length = 100\n",
    "\n",
    "note_to_int = dict((note, number) for number, note in enumerate(pitchnames))\n",
    "int_to_note = dict((number, note) for number, note in enumerate(pitchnames))\n",
    "\n",
    "pattern = np.zeros(sequence_length)\n",
    "pattern[-1] = np.random.randint(1, n_vocab)\n",
    "pattern = to_categorical(pattern, num_classes=n_vocab)\n",
    "\n",
    "prediction_output = generate_notes(model, network_input, pitchnames, n_vocab, pattern)\n",
    "\n",
    "create_midi(prediction_output, os.path.join(work_dir, 'lstm_oh_gen_test_output_rand1.mid'))"
   ]
  }
 ],
 "metadata": {
  "accelerator": "GPU",
  "colab": {
   "collapsed_sections": [],
   "include_colab_link": true,
   "name": "lstm_onehot_midi_generator.ipynb",
   "provenance": [],
   "version": "0.3.2"
  },
  "kernelspec": {
   "display_name": "Python 3",
   "language": "python",
   "name": "python3"
  },
  "language_info": {
   "codemirror_mode": {
    "name": "ipython",
    "version": 3
   },
   "file_extension": ".py",
   "mimetype": "text/x-python",
   "name": "python",
   "nbconvert_exporter": "python",
   "pygments_lexer": "ipython3",
   "version": "3.6.5"
  }
 },
 "nbformat": 4,
 "nbformat_minor": 1
}
